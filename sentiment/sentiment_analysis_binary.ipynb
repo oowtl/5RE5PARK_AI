{
 "cells": [
  {
   "metadata": {
    "ExecuteTime": {
     "end_time": "2024-12-09T19:12:15.209135Z",
     "start_time": "2024-12-09T19:12:12.123747Z"
    }
   },
   "cell_type": "code",
   "source": [
    "from datasets import load_dataset\n",
    "\n",
    "sentiment_dataset = load_dataset(\"sepidmnorozy/Korean_sentiment\")\n",
    "# label column name 변경 (-> labels)\n",
    "sentiment_dataset = sentiment_dataset.rename_column(\"label\", \"labels\")"
   ],
   "id": "975b619164703fc5",
   "outputs": [],
   "execution_count": 136
  },
  {
   "metadata": {
    "ExecuteTime": {
     "end_time": "2024-12-09T19:12:16.531214Z",
     "start_time": "2024-12-09T19:12:16.524302Z"
    }
   },
   "cell_type": "code",
   "source": "print(sentiment_dataset)",
   "id": "51bed325d25efb32",
   "outputs": [
    {
     "name": "stdout",
     "output_type": "stream",
     "text": [
      "DatasetDict({\n",
      "    train: Dataset({\n",
      "        features: ['labels', 'text'],\n",
      "        num_rows: 36000\n",
      "    })\n",
      "    validation: Dataset({\n",
      "        features: ['labels', 'text'],\n",
      "        num_rows: 1333\n",
      "    })\n",
      "    test: Dataset({\n",
      "        features: ['labels', 'text'],\n",
      "        num_rows: 2667\n",
      "    })\n",
      "})\n"
     ]
    }
   ],
   "execution_count": 137
  },
  {
   "metadata": {
    "ExecuteTime": {
     "end_time": "2024-12-09T19:13:36.594238Z",
     "start_time": "2024-12-09T19:13:36.588228Z"
    }
   },
   "cell_type": "code",
   "source": [
    "print(sentiment_dataset[\"train\"][0])\n",
    "print(type(sentiment_dataset[\"train\"][0]))"
   ],
   "id": "5258af25640d7df1",
   "outputs": [
    {
     "name": "stdout",
     "output_type": "stream",
     "text": [
      "{'labels': 1, 'text': '역시 명작 어렸을때 봤을때도 재밌었고 지금 봐도 몇억배 이상으로 재밌어요'}\n",
      "<class 'dict'>\n"
     ]
    }
   ],
   "execution_count": 140
  },
  {
   "metadata": {
    "collapsed": true,
    "ExecuteTime": {
     "end_time": "2024-12-09T19:35:35.541301Z",
     "start_time": "2024-12-09T19:35:34.996072Z"
    }
   },
   "cell_type": "code",
   "source": [
    "\"\"\"\n",
    "토크나이저 불러오기\n",
    "\"\"\"\n",
    "from transformers import AutoTokenizer\n",
    "\n",
    "tokenizer = AutoTokenizer.from_pretrained(\"monologg/kobert\", trust_remote_code=True)"
   ],
   "id": "initial_id",
   "outputs": [],
   "execution_count": 141
  },
  {
   "metadata": {
    "ExecuteTime": {
     "end_time": "2024-12-09T19:35:36.466280Z",
     "start_time": "2024-12-09T19:35:36.461803Z"
    }
   },
   "cell_type": "code",
   "source": [
    "\"\"\"\n",
    "토큰화 함수 정의\n",
    "\"\"\"\n",
    "\n",
    "def tokenize_funciton(sample):\n",
    "    return tokenizer(\n",
    "        sample[\"text\"],  # 텍스트 데이터\n",
    "        # padding=True,  # 패딩 적용\n",
    "        padding=\"max_length\",  # 최대 길이로 패딩\n",
    "        truncation=True,  # 최대 길이를 넘어가는 데이터는 자름\n",
    "        return_tensors=\"pt\"  # 파이토치 텐서로 반환\n",
    "    )"
   ],
   "id": "165aef974c0f0146",
   "outputs": [],
   "execution_count": 142
  },
  {
   "metadata": {
    "ExecuteTime": {
     "end_time": "2024-12-09T19:35:38.357015Z",
     "start_time": "2024-12-09T19:35:38.235515Z"
    }
   },
   "cell_type": "code",
   "source": [
    "\"\"\"\n",
    "토크나이저 사용하기\n",
    "\"\"\"\n",
    "\n",
    "tokenized_sentiment_dataset = sentiment_dataset.map(\n",
    "    tokenize_funciton,\n",
    "    batched=True,  # 병렬 처리 활성화\n",
    "    remove_columns=[\"text\"])  # 원본 데이터에서 text 컬럼 제거 (메모리 최적화)"
   ],
   "id": "52558a4958159648",
   "outputs": [],
   "execution_count": 143
  },
  {
   "metadata": {
    "ExecuteTime": {
     "end_time": "2024-12-09T19:35:44.916971Z",
     "start_time": "2024-12-09T19:35:44.913545Z"
    }
   },
   "cell_type": "code",
   "source": [
    "\"\"\"\n",
    "토크나이저가 적용된 데이터 셋 확인하기\n",
    "\"\"\"\n",
    "print(tokenized_sentiment_dataset)\n",
    "print(type(tokenized_sentiment_dataset))"
   ],
   "id": "8952461d09d19e7b",
   "outputs": [
    {
     "name": "stdout",
     "output_type": "stream",
     "text": [
      "DatasetDict({\n",
      "    train: Dataset({\n",
      "        features: ['labels', 'input_ids', 'token_type_ids', 'attention_mask'],\n",
      "        num_rows: 36000\n",
      "    })\n",
      "    validation: Dataset({\n",
      "        features: ['labels', 'input_ids', 'token_type_ids', 'attention_mask'],\n",
      "        num_rows: 1333\n",
      "    })\n",
      "    test: Dataset({\n",
      "        features: ['labels', 'input_ids', 'token_type_ids', 'attention_mask'],\n",
      "        num_rows: 2667\n",
      "    })\n",
      "})\n",
      "<class 'datasets.dataset_dict.DatasetDict'>\n"
     ]
    }
   ],
   "execution_count": 144
  },
  {
   "metadata": {},
   "cell_type": "code",
   "source": [
    "\"\"\"\n",
    "데이터 셋 분리해서 준비하기\n",
    "\"\"\"\n",
    "\n",
    "# 학습용 데이터셋\n",
    "train_dataset = tokenized_sentiment_dataset[\"train\"]\n",
    "\n",
    "# 검증용 데이터셋\n",
    "validation_dataset = tokenized_sentiment_dataset[\"validation\"]\n",
    "\n",
    "# 테스트용 데이터셋\n",
    "test_dataset = tokenized_sentiment_dataset[\"test\"]"
   ],
   "id": "7b66146f92692b3b",
   "outputs": [],
   "execution_count": null
  },
  {
   "metadata": {},
   "cell_type": "code",
   "source": [
    "\"\"\"\n",
    "분리된 데이터 셋 확인하기\n",
    "\"\"\"\n",
    "\n",
    "# 학습용 데이터셋 확인\n",
    "print(train_dataset[0])\n",
    "\n",
    "# 검증용 데이터셋 확인\n",
    "print(validation_dataset[0])\n",
    "\n",
    "# 테스트용 데이터셋 확인\n",
    "print(test_dataset[0])"
   ],
   "id": "e8e562b33969bf3e",
   "outputs": [],
   "execution_count": null
  },
  {
   "metadata": {},
   "cell_type": "code",
   "source": [
    "from transformers import TrainingArguments\n",
    "\n",
    "# 하이처 파라미터 지정\n",
    "training_args = TrainingArguments(\n",
    "    output_dir=\"../results\",  # 출력 디렉토리\n",
    "    num_train_epochs=3,  # 학습할 에포크 수\n",
    "    eval_strategy=\"steps\",  # 평가 전략 : 에포크마다 검증 데이터셋에 대한 평가 지표 출력\n",
    "    eval_steps=500,  # 500 스텝마다 평가\n",
    "    per_device_train_batch_size=8,  # 학습에 사용할 배치 사이즈\n",
    "    per_device_eval_batch_size=16,  # 평가에 사용할 배치 사이즈\n",
    "    warmup_steps=200,  # warmup 스텝 수\n",
    "    weight_decay=0.01,  # 가중치 감쇠\n",
    "    remove_unused_columns=False,  # 사용하지 않는 컬럼 제거\n",
    ")"
   ],
   "id": "b4ce79964873201",
   "outputs": [],
   "execution_count": null
  },
  {
   "metadata": {},
   "cell_type": "code",
   "source": [
    "\"\"\"\n",
    "예측값과 실제 레이블 간의 정확도 계산\n",
    "\"\"\"\n",
    "\n",
    "from sklearn.metrics import accuracy_score\n",
    "import numpy as np\n",
    "\n",
    "def compute_metrics(eval_pred):\n",
    "    predictions, labels = eval_pred\n",
    "    predictions = np.argmax(predictions, axis=1)\n",
    "    return {\n",
    "        \"accuracy\": float(\n",
    "            accuracy_score(labels, predictions)\n",
    "        )\n",
    "    }"
   ],
   "id": "6fe56e2d5b10f2b4",
   "outputs": [],
   "execution_count": null
  },
  {
   "metadata": {},
   "cell_type": "code",
   "source": [
    "\"\"\"\n",
    "BERT 분류기 사용하기\n",
    "\"\"\"\n",
    "\n",
    "from transformers import BertForSequenceClassification\n",
    "\n",
    "clf_model = BertForSequenceClassification.from_pretrained(\"monologg/kobert\", num_labels=2)"
   ],
   "id": "723f23e7ca9de866",
   "outputs": [],
   "execution_count": null
  },
  {
   "metadata": {},
   "cell_type": "code",
   "source": [
    "\"\"\"\n",
    "분류기 학습시키기\n",
    "\"\"\"\n",
    "\n",
    "from transformers import TrainingArguments\n",
    "\n",
    "# 하이처 파라미터 지정\n",
    "clf_training_args = TrainingArguments(\n",
    "    output_dir=\"../clf_results\",  # 출력 디렉토리\n",
    "    num_train_epochs=3,  # 학습할 에포크 수\n",
    "    eval_strategy=\"steps\",  # 평가 전략 : 에포크마다 검증 데이터셋에 대한 평가 지표 출력\n",
    "    eval_steps=500,  # 500 스텝마다 평가\n",
    "    per_device_train_batch_size=8,  # 학습에 사용할 배치\n",
    "    # 사이즈\n",
    "    per_device_eval_batch_size=16,  # 평가에 사용할 배치 사이즈\n",
    "    warmup_steps=200,  # warmup 스텝 수\n",
    "    weight_decay=0.01,  # 가중치 감쇠\n",
    "    remove_unused_columns=False,  # 사용하지 않는 컬럼 제거\n",
    ")"
   ],
   "id": "124eb7e8dcdc03e0",
   "outputs": [],
   "execution_count": null
  },
  {
   "metadata": {},
   "cell_type": "code",
   "source": [
    "\"\"\"\n",
    "clf Trainer 불러오기\n",
    "\"\"\"\n",
    "from transformers import Trainer\n",
    "\n",
    "clf_trainer = Trainer(\n",
    "    model=clf_model,\n",
    "    args=clf_training_args,\n",
    "    train_dataset=train_dataset,\n",
    "    eval_dataset=validation_dataset,\n",
    "    compute_metrics=compute_metrics\n",
    ")"
   ],
   "id": "1c69b59e881eb7e8",
   "outputs": [],
   "execution_count": null
  },
  {
   "metadata": {},
   "cell_type": "code",
   "source": [
    "\"\"\"\n",
    "mac gpu 사용하기\n",
    "\"\"\"\n",
    "\n",
    "import torch\n",
    "\n",
    "print(f\"MPS 장치를 지원하도록 build가 되었는가? {torch.backends.mps.is_built()}\")\n",
    "print(f\"MPS 장치가 사용 가능한가? {torch.backends.mps.is_available()}\")\n",
    "\n",
    "device = torch.device(\"mps\")\n",
    "\n",
    "clf_model.to(device)"
   ],
   "id": "a1e5c11b903e93a0",
   "outputs": [],
   "execution_count": null
  },
  {
   "metadata": {},
   "cell_type": "code",
   "source": [
    "\"\"\"\n",
    "clf Trainer 학습시키기\n",
    "\"\"\"\n",
    "\n",
    "clf_trainer.train()\n"
   ],
   "id": "f4dac337e9b81d34",
   "outputs": [],
   "execution_count": null
  }
 ],
 "metadata": {
  "kernelspec": {
   "display_name": "Python 3",
   "language": "python",
   "name": "python3"
  },
  "language_info": {
   "codemirror_mode": {
    "name": "ipython",
    "version": 2
   },
   "file_extension": ".py",
   "mimetype": "text/x-python",
   "name": "python",
   "nbconvert_exporter": "python",
   "pygments_lexer": "ipython2",
   "version": "2.7.6"
  }
 },
 "nbformat": 4,
 "nbformat_minor": 5
}
