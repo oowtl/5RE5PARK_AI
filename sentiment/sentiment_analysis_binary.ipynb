{
 "cells": [
  {
   "metadata": {},
   "cell_type": "code",
   "source": [
    "from datasets import load_dataset\n",
    "\n",
    "sentiment_dataset = load_dataset(\"sepidmnorozy/Korean_sentiment\")\n",
    "# label column name 변경 (-> labels)\n",
    "sentiment_dataset = sentiment_dataset.rename_column(\"label\", \"labels\")"
   ],
   "id": "975b619164703fc5",
   "outputs": [],
   "execution_count": null
  },
  {
   "metadata": {},
   "cell_type": "code",
   "source": "print(sentiment_dataset)",
   "id": "51bed325d25efb32",
   "outputs": [],
   "execution_count": null
  },
  {
   "metadata": {},
   "cell_type": "code",
   "source": [
    "# from sklearn.model_selection import train_test_split\n",
    "#\n",
    "# '''\n",
    "# sklearn 의 train_test_split\n",
    "# 데이터를 학습용 데이터와 테스트 용 데이터로 나누는 함수이다.\n",
    "#\n",
    "# train_test_split 의 반환값\n",
    "# X_train, X_test, y_train, y_test = train_test_split(X, y, test_size=0.2, random_state=42)\n",
    "#\n",
    "# X_train : 학습용 데이터 셋\n",
    "# X_test : 테스트용 데이터의 셋\n",
    "# y_train : 학습용 데이터의 label\n",
    "# y_test : 테스트용 데이터의 label\n",
    "# '''\n",
    "#\n",
    "# X_train_val, X_test, y_train_val, y_test = train_test_split(sentiment_input[\"train\"][\"text\"],\n",
    "#                                                             sentiment_input[\"train\"][\"label\"], test_size=0.2,\n",
    "#                                                             random_state=42)"
   ],
   "id": "bf13996e44045227",
   "outputs": [],
   "execution_count": null
  },
  {
   "metadata": {
    "collapsed": true
   },
   "cell_type": "code",
   "source": [
    "\"\"\"\n",
    "토크나이저 불러오기\n",
    "\"\"\"\n",
    "from transformers import AutoTokenizer\n",
    "\n",
    "tokenizer = AutoTokenizer.from_pretrained(\"monologg/kobert\", trust_remote_code=True)"
   ],
   "id": "initial_id",
   "outputs": [],
   "execution_count": null
  },
  {
   "metadata": {},
   "cell_type": "code",
   "source": [
    "\"\"\"\n",
    "토큰화 함수 정의\n",
    "\"\"\"\n",
    "\n",
    "\n",
    "def tokenize_funciton(sample):\n",
    "    return tokenizer(\n",
    "        sample[\"text\"],  # 텍스트 데이터\n",
    "        # padding=True,  # 패딩 적용\n",
    "        padding=\"max_length\",  # 최대 길이로 패딩\n",
    "        truncation=True,  # 최대 길이를 넘어가는 데이터는 자름\n",
    "        return_tensors=\"pt\"  # 파이토치 텐서로 반환\n",
    "    )"
   ],
   "id": "165aef974c0f0146",
   "outputs": [],
   "execution_count": null
  },
  {
   "metadata": {},
   "cell_type": "code",
   "source": [
    "\"\"\"\n",
    "토크나이저 사용하기\n",
    "\"\"\"\n",
    "\n",
    "tokenized_sentiment_dataset = sentiment_dataset.map(\n",
    "    tokenize_funciton,\n",
    "    batched=True,  # 병렬 처리 활성화\n",
    "    remove_columns=[\"text\"])  # 원본 데이터에서 text 컬럼 제거 (메모리 최적화)"
   ],
   "id": "52558a4958159648",
   "outputs": [],
   "execution_count": null
  },
  {
   "metadata": {},
   "cell_type": "code",
   "source": [
    "\"\"\"\n",
    "토크나이저가 적용된 데이터 셋 확인하기\n",
    "\"\"\"\n",
    "print(tokenized_sentiment_dataset)"
   ],
   "id": "8952461d09d19e7b",
   "outputs": [],
   "execution_count": null
  },
  {
   "metadata": {},
   "cell_type": "code",
   "source": [
    "\"\"\"\n",
    "데이터 셋 분리해서 준비하기\n",
    "\"\"\"\n",
    "\n",
    "# 학습용 데이터셋\n",
    "train_dataset = tokenized_sentiment_dataset[\"train\"]\n",
    "\n",
    "# 검증용 데이터셋\n",
    "validation_dataset = tokenized_sentiment_dataset[\"validation\"]\n",
    "\n",
    "# 테스트용 데이터셋\n",
    "test_dataset = tokenized_sentiment_dataset[\"test\"]"
   ],
   "id": "7b66146f92692b3b",
   "outputs": [],
   "execution_count": null
  },
  {
   "metadata": {},
   "cell_type": "code",
   "source": [
    "\"\"\"\n",
    "분리된 데이터 셋 확인하기\n",
    "\"\"\"\n",
    "\n",
    "# 학습용 데이터셋 확인\n",
    "print(train_dataset[0])\n",
    "\n",
    "# 검증용 데이터셋 확인\n",
    "print(validation_dataset[0])\n",
    "\n",
    "# 테스트용 데이터셋 확인\n",
    "print(test_dataset[0])"
   ],
   "id": "e8e562b33969bf3e",
   "outputs": [],
   "execution_count": null
  },
  {
   "metadata": {},
   "cell_type": "code",
   "source": [
    "import torch\n",
    "#\n",
    "#\n",
    "# class preprocess_dataset(torch.utils.data.Dataset):\n",
    "#     def __init__(self, inputs, labels):\n",
    "#         self.inputs = inputs\n",
    "#         self.labels = labels\n",
    "#\n",
    "#     def __getitem__(self, idx):\n",
    "#         item = {key: torch.tensor(val[idx]) for key, val in self.inputs.items()}\n",
    "#         item[\"labels\"] = torch.tensor(self.labels[idx])\n",
    "#         return item\n",
    "#\n",
    "#     def __len__(self):\n",
    "#         return len(self.labels)"
   ],
   "id": "495e591020db926a",
   "outputs": [],
   "execution_count": null
  },
  {
   "metadata": {},
   "cell_type": "code",
   "source": "# sentiment_dataset = preprocess_dataset()",
   "id": "c76059657609f56b",
   "outputs": [],
   "execution_count": null
  },
  {
   "metadata": {},
   "cell_type": "code",
   "source": [
    "# # senti = tokenizer(sentiment_dataset[\"train\"][0])\n",
    "# print(sentiment_dataset[\"train\"][0])"
   ],
   "id": "fbd829d52785122b",
   "outputs": [],
   "execution_count": null
  },
  {
   "metadata": {},
   "cell_type": "code",
   "source": [
    "from transformers import TrainingArguments\n",
    "\n",
    "# 하이처 파라미터 지정\n",
    "training_args = TrainingArguments(\n",
    "    output_dir=\"../results\",  # 출력 디렉토리\n",
    "    num_train_epochs=3,  # 학습할 에포크 수\n",
    "    eval_strategy=\"steps\",  # 평가 전략 : 에포크마다 검증 데이터셋에 대한 평가 지표 출력\n",
    "    eval_steps=500,  # 500 스텝마다 평가\n",
    "    per_device_train_batch_size=8,  # 학습에 사용할 배치 사이즈\n",
    "    per_device_eval_batch_size=16,  # 평가에 사용할 배치 사이즈\n",
    "    warmup_steps=200,  # warmup 스텝 수\n",
    "    weight_decay=0.01,  # 가중치 감쇠\n",
    "    remove_unused_columns=False,  # 사용하지 않는 컬럼 제거\n",
    ")"
   ],
   "id": "b4ce79964873201",
   "outputs": [],
   "execution_count": null
  },
  {
   "metadata": {},
   "cell_type": "code",
   "source": [
    "# \"\"\"\n",
    "#\n",
    "# \"\"\"\n",
    "# import evaluate\n",
    "#\n",
    "# # 정확도 메트릭을 불러온다.\n",
    "# # 예측값과 실제 라벨을 비교하여 정확도를 계산한다.\n",
    "# metric = evaluate.load(\"accuracy\")"
   ],
   "id": "a807402c913bbda0",
   "outputs": [],
   "execution_count": null
  },
  {
   "metadata": {},
   "cell_type": "code",
   "source": [
    "# \"\"\"\n",
    "# 정확도 계산 함수 정의\n",
    "# \"\"\"\n",
    "# import numpy as np\n",
    "#\n",
    "#\n",
    "# def compute_metrics(eval_pred):\n",
    "#     # logits : 모델의 출력값\n",
    "#     # labels : 실제 라벨 값\n",
    "#     logits, label = eval_pred\n",
    "#\n",
    "#     # 모델이 출력한 로짓에서 가장 높은 값을 가진 인덱스를 선택해서 예측 클래스를 만든다.\n",
    "#     predictions = np.argmax(logits, axis=-1)\n",
    "#\n",
    "#     # predictions 와 실제 라벨을 비교하여 정확도를 계산한다.\n",
    "#     # 정확도를 반환한다.\n",
    "#     return metric.compute(predictions=predictions, references=label)"
   ],
   "id": "838ae8711b28915e",
   "outputs": [],
   "execution_count": null
  },
  {
   "metadata": {},
   "cell_type": "code",
   "source": [
    "from sklearn.metrics import accuracy_score\n",
    "import numpy as np\n",
    "\n",
    "def compute_metrics(eval_pred):\n",
    "    predictions, labels = eval_pred\n",
    "    predictions = np.argmax(predictions, axis=1)\n",
    "    return {\n",
    "        \"accuracy\": float(\n",
    "            accuracy_score(labels, predictions)\n",
    "        )\n",
    "    }"
   ],
   "id": "6fe56e2d5b10f2b4",
   "outputs": [],
   "execution_count": null
  },
  {
   "metadata": {},
   "cell_type": "code",
   "source": [
    "\"\"\"\n",
    "모델 불러오기\n",
    "\"\"\"\n",
    "\n",
    "from transformers import AutoModel\n",
    "\n",
    "model = AutoModel.from_pretrained(\"monologg/kobert\")"
   ],
   "id": "ecfffafea4aa9c53",
   "outputs": [],
   "execution_count": null
  },
  {
   "metadata": {},
   "cell_type": "code",
   "source": [
    "from transformers import Trainer\n",
    "\n",
    "trainer = Trainer(\n",
    "    model=model,\n",
    "    args=training_args,\n",
    "    train_dataset=train_dataset,\n",
    "    eval_dataset=validation_dataset,\n",
    "    compute_metrics=compute_metrics\n",
    ")"
   ],
   "id": "d246d2a44d52dfac",
   "outputs": [],
   "execution_count": null
  },
  {
   "metadata": {},
   "cell_type": "code",
   "source": "trainer.train()",
   "id": "b814b3c034031bc3",
   "outputs": [],
   "execution_count": null
  },
  {
   "metadata": {},
   "cell_type": "code",
   "source": [
    "\"\"\"\n",
    "BERT 분류기 사용하기\n",
    "\"\"\"\n",
    "\n",
    "from transformers import BertForSequenceClassification\n",
    "\n",
    "clf_model = BertForSequenceClassification.from_pretrained(\"monologg/kobert\", num_labels=2)"
   ],
   "id": "723f23e7ca9de866",
   "outputs": [],
   "execution_count": null
  },
  {
   "metadata": {},
   "cell_type": "code",
   "source": [
    "\"\"\"\n",
    "분류기 학습시키기\n",
    "\"\"\"\n",
    "\n",
    "from transformers import TrainingArguments\n",
    "\n",
    "# 하이처 파라미터 지정\n",
    "clf_training_args = TrainingArguments(\n",
    "    output_dir=\"../clf_results\",  # 출력 디렉토리\n",
    "    num_train_epochs=3,  # 학습할 에포크 수\n",
    "    eval_strategy=\"steps\",  # 평가 전략 : 에포크마다 검증 데이터셋에 대한 평가 지표 출력\n",
    "    eval_steps=500,  # 500 스텝마다 평가\n",
    "    per_device_train_batch_size=8,  # 학습에 사용할 배치\n",
    "    # 사이즈\n",
    "    per_device_eval_batch_size=16,  # 평가에 사용할 배치 사이즈\n",
    "    warmup_steps=200,  # warmup 스텝 수\n",
    "    weight_decay=0.01,  # 가중치 감쇠\n",
    "    remove_unused_columns=False,  # 사용하지 않는 컬럼 제거\n",
    ")"
   ],
   "id": "124eb7e8dcdc03e0",
   "outputs": [],
   "execution_count": null
  },
  {
   "metadata": {},
   "cell_type": "code",
   "source": [
    "\"\"\"\n",
    "clf Trainer 불러오기\n",
    "\"\"\"\n",
    "from transformers import Trainer\n",
    "\n",
    "clf_trainer = Trainer(\n",
    "    model=clf_model,\n",
    "    args=clf_training_args,\n",
    "    train_dataset=train_dataset,\n",
    "    eval_dataset=validation_dataset,\n",
    "    compute_metrics=compute_metrics\n",
    ")"
   ],
   "id": "1c69b59e881eb7e8",
   "outputs": [],
   "execution_count": null
  },
  {
   "metadata": {},
   "cell_type": "code",
   "source": [
    "\"\"\"\n",
    "mac gpu 사용하기\n",
    "\"\"\"\n",
    "\n",
    "import torch\n",
    "\n",
    "print(f\"MPS 장치를 지원하도록 build가 되었는가? {torch.backends.mps.is_built()}\")\n",
    "print(f\"MPS 장치가 사용 가능한가? {torch.backends.mps.is_available()}\")\n",
    "\n",
    "device = torch.device(\"mps\")\n",
    "\n",
    "clf_model.to(device)"
   ],
   "id": "a1e5c11b903e93a0",
   "outputs": [],
   "execution_count": null
  },
  {
   "metadata": {},
   "cell_type": "code",
   "source": [
    "\"\"\"\n",
    "clf Trainer 학습시키기\n",
    "\"\"\"\n",
    "\n",
    "clf_trainer.train()\n"
   ],
   "id": "f4dac337e9b81d34",
   "outputs": [],
   "execution_count": null
  }
 ],
 "metadata": {
  "kernelspec": {
   "display_name": "Python 3",
   "language": "python",
   "name": "python3"
  },
  "language_info": {
   "codemirror_mode": {
    "name": "ipython",
    "version": 2
   },
   "file_extension": ".py",
   "mimetype": "text/x-python",
   "name": "python",
   "nbconvert_exporter": "python",
   "pygments_lexer": "ipython2",
   "version": "2.7.6"
  }
 },
 "nbformat": 4,
 "nbformat_minor": 5
}
